{
 "cells": [
  {
   "cell_type": "markdown",
   "metadata": {},
   "source": [
    "# EnigmaNet: A Neural Network Framework for Eplipesy Classification\n",
    "### This is a script that uses Keras to predict epilepsy outcomes"
   ]
  },
  {
   "cell_type": "markdown",
   "metadata": {},
   "source": [
    "## Script Details\n",
    "This script is designed to run with the following configuration:\n",
    "* Keras\n",
    "* TensorFlow backend\n",
    "* PlaidML backend (if using Radeon GPU)\n",
    "* Tabular data (Excel or CSVs)\n",
    "\n",
    "## Dependencies\n",
    "Run the following command to pip install all dependencies\n",
    "```\n",
    "pip install numpy pandas sklearn matplotlib scipy keras_tqdm\n",
    "```\n",
    "\n",
    "Also install NeuroCombat at https://github.com/ncullen93/neuroCombat"
   ]
  },
  {
   "cell_type": "code",
   "execution_count": 1,
   "metadata": {},
   "outputs": [],
   "source": [
    "import enigma"
   ]
  },
  {
   "cell_type": "markdown",
   "metadata": {},
   "source": [
    "## Create Enigma Object\n",
    "Use various parameters to create the Enigmanet object"
   ]
  },
  {
   "cell_type": "code",
   "execution_count": 2,
   "metadata": {},
   "outputs": [
    {
     "name": "stdout",
     "output_type": "stream",
     "text": [
      "Found classes: [1 0]\n"
     ]
    }
   ],
   "source": [
    "inData = enigma.enigmanet(path='/Users/sid/Documents/Projects/Enigma-ML/Dataset/T1/all.csv',\n",
    "                 classcol='Dx',\n",
    "                 sitecol='Site',\n",
    "                 dbegin='ICV',\n",
    "                 dend='R_insula_surfavg',\n",
    "                 fillmissing=True,\n",
    "                 harmonize=True,\n",
    "                 crange=['Site', 'Sex'],\n",
    "                 batch='Site',\n",
    "                 discrete=['Dx', 'Sex'],\n",
    "                 continuous=['Age'],\n",
    "                 scale=True,\n",
    "                 testsplit=0.10)"
   ]
  },
  {
   "cell_type": "code",
   "execution_count": 3,
   "metadata": {},
   "outputs": [
    {
     "name": "stdout",
     "output_type": "stream",
     "text": [
      "...found 2 classes across 16 sites\n",
      "...filling missing data with class means\n",
      "Creating design matrix..\n",
      "Standardizing data across features..\n",
      "Fitting L/S model and finding priors..\n",
      "Finding parametric adjustments..\n",
      "Final adjustment of data..\n"
     ]
    }
   ],
   "source": [
    "inData.transformdata()"
   ]
  },
  {
   "cell_type": "code",
   "execution_count": 4,
   "metadata": {},
   "outputs": [],
   "source": [
    "x_train, x_test, y_train, y_test = inData.splitdata()"
   ]
  },
  {
   "cell_type": "code",
   "execution_count": null,
   "metadata": {},
   "outputs": [],
   "source": []
  }
 ],
 "metadata": {
  "kernelspec": {
   "display_name": "Python 3",
   "language": "python",
   "name": "python3"
  },
  "language_info": {
   "codemirror_mode": {
    "name": "ipython",
    "version": 3
   },
   "file_extension": ".py",
   "mimetype": "text/x-python",
   "name": "python",
   "nbconvert_exporter": "python",
   "pygments_lexer": "ipython3",
   "version": "3.7.4"
  }
 },
 "nbformat": 4,
 "nbformat_minor": 2
}
