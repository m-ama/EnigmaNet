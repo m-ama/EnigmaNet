{
 "cells": [
  {
   "cell_type": "markdown",
   "metadata": {},
   "source": [
    "# EnigmaNet: A Neural Network Framework for Eplipesy Classification\n",
    "### This is a script that uses Keras to predict epilepsy outcomes"
   ]
  },
  {
   "cell_type": "markdown",
   "metadata": {},
   "source": [
    "## Script Details\n",
    "This script is designed to run with the following configuration:\n",
    "* Keras\n",
    "* TensorFlow backend\n",
    "* PlaidML backend (if using Radeon GPU)\n",
    "* Tabular data (Excel or CSVs)\n",
    "\n",
    "## Dependencies\n",
    "Run the following command to pip install all dependencies\n",
    "```\n",
    "pip install numpy pandas sklearn matplotlib scipy keras_tqdm imblearn\n",
    "```\n",
    "\n",
    "Conda users can search for same packages and install them via `conda install <package_name>`\n",
    "\n",
    "Also install NeuroCombat at https://github.com/ncullen93/neuroCombat"
   ]
  },
  {
   "cell_type": "code",
   "execution_count": null,
   "metadata": {},
   "outputs": [],
   "source": [
    "# Local modules\n",
    "import enigma as en\n",
    "from enigmalibrary import enigmamodels as em\n",
    "\n",
    "# Standard modules\n",
    "import numpy as np\n",
    "\n",
    "# Sklearn modules\n",
    "from sklearn.linear_model import LogisticRegression\n",
    "from sklearn.pipeline import Pipeline\n",
    "from sklearn.preprocessing import StandardScaler\n",
    "\n",
    "# Keras modules\n",
    "from keras.layers import Dense, Dropout\n",
    "from keras.models import Model, Sequential\n",
    "from sklearn.model_selection import GridSearchCV\n",
    "from keras.wrappers.scikit_learn import KerasClassifier"
   ]
  },
  {
   "cell_type": "markdown",
   "metadata": {},
   "source": [
    "## Create Enigma Data Object\n",
    "The Enigma data object holds the data, and enables the application of various transformations."
   ]
  },
  {
   "cell_type": "code",
   "execution_count": null,
   "metadata": {},
   "outputs": [],
   "source": [
    "inData = en.enigmanet(path='/Users/sid/Documents/Projects/Enigma-ML/Dataset/T1/all.csv',\n",
    "                 classcol='Dx',\n",
    "                 sitecol='Site',\n",
    "                 dbegin='ICV',\n",
    "                 dend='R_insula_surfavg',\n",
    "                 fillmissing=True,\n",
    "                 harmonize=True,\n",
    "                 crange=['Site', 'Sex'],\n",
    "                 batch='Site',\n",
    "                 discrete=['Dx', 'Sex'],\n",
    "                 continuous=['Age'],\n",
    "                 scale=True,\n",
    "                 testsplit=0.30)"
   ]
  },
  {
   "cell_type": "code",
   "execution_count": null,
   "metadata": {},
   "outputs": [],
   "source": [
    "inData.transformdata()"
   ]
  },
  {
   "cell_type": "code",
   "execution_count": null,
   "metadata": {},
   "outputs": [],
   "source": [
    "x_train, x_test, y_train, y_test = inData.splitdata(oversample=True)\n",
    "print('Dataset containing ' + str(len(inData.dframe.loc[:, inData.classcol])) + ' observations split into:')\n",
    "print('    Training: ' + str(len(y_train)))\n",
    "print('    Testing: ' + str(len(y_test)))"
   ]
  },
  {
   "cell_type": "markdown",
   "metadata": {},
   "source": [
    "## Create GridSearch Dict\n"
   ]
  },
  {
   "cell_type": "code",
   "execution_count": null,
   "metadata": {
    "scrolled": true
   },
   "outputs": [],
   "source": [
    "hyperparameters = {'input_dim': [x_train.shape[1]],\n",
    "                   'optimizer': ['Adam', 'Nadam', 'SGD', 'RMSprop'],\n",
    "                   'activation': ['relu', 'sigmoid', 'linear', 'tanh', 'softmax'],\n",
    "                   'initmode': ['glorot_uniform', 'glorot_normal', 'lecun_uniform', 'uniform'],\n",
    "                   'dropout': [0.1, 0.2, 0.3],\n",
    "                   'units_L1': [10, 20, 30, 40, 50, 60, 70, 80, 100, 200, 500],\n",
    "                   'units_L2': [2, 5, 10, 15, 20, 50, 100],\n",
    "                   'L2_reg_penalty': [0.01, 0.015, 0.1, 0.15, 0.2],\n",
    "                   'epochs': [50, 75, 100, 150, 200, 300, 500, 1000, 2000],\n",
    "                   'batch_size': [10, 20, 40, 60, 80, 100]}\n",
    "\n",
    "enigmaClassifier = KerasClassifier(em.CreateSequentialModel,\n",
    "                                   verbose=1)\n",
    "\n",
    "grid = GridSearchCV(estimator=enigmaClassifier,\n",
    "                    param_grid=hyperparameters)\n",
    "grid_result = grid.fit(x_train, y_train)\n",
    "\n",
    "\n",
    "print('The parameters of the best model are: ')\n",
    "print(grid_result.best_params_)"
   ]
  },
  {
   "cell_type": "markdown",
   "metadata": {},
   "source": [
    "## Construct Pipeline"
   ]
  },
  {
   "cell_type": "code",
   "execution_count": null,
   "metadata": {},
   "outputs": [],
   "source": []
  }
 ],
 "metadata": {
  "kernelspec": {
   "display_name": "Python 3",
   "language": "python",
   "name": "python3"
  },
  "language_info": {
   "codemirror_mode": {
    "name": "ipython",
    "version": 3
   },
   "file_extension": ".py",
   "mimetype": "text/x-python",
   "name": "python",
   "nbconvert_exporter": "python",
   "pygments_lexer": "ipython3",
   "version": "3.7.4"
  }
 },
 "nbformat": 4,
 "nbformat_minor": 2
}
